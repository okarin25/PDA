{
 "cells": [
  {
   "cell_type": "code",
   "execution_count": 3,
   "id": "104fe5c0",
   "metadata": {},
   "outputs": [],
   "source": [
    "# #Reshaping a pandas dataframe is one of the most common data wrangling tasks in␣\n",
    "# ↪the data analysis world.\n",
    "# #It is also referred to as transposing or pivoting/unpivoting a table from long␣\n",
    "# ↪to wide or from wide to long format.\n",
    "# #So what is a long data format vs. a wide data format and how do we reshape a␣\n",
    "# ↪dataframe from long-to-wide and vice versa?\n"
   ]
  },
  {
   "cell_type": "code",
   "execution_count": 4,
   "id": "49688896",
   "metadata": {},
   "outputs": [],
   "source": [
    "# #Syntax: Pandas.Series.values.reshape((dimension))\n",
    "# #Return: return an ndarray with the values shape if the specified shape matches␣\n",
    "# ↪exactly the current shape,\n",
    "# #then return self (for compat)\n"
   ]
  },
  {
   "cell_type": "code",
   "execution_count": 6,
   "id": "2da7d7a8",
   "metadata": {},
   "outputs": [
    {
     "data": {
      "text/plain": [
       "array([ 3,  6,  9, 12, 15, 18], dtype=int64)"
      ]
     },
     "execution_count": 6,
     "metadata": {},
     "output_type": "execute_result"
    }
   ],
   "source": [
    "# import pandas library\n",
    "import pandas as pd\n",
    "\n",
    "# make an array with new values\n",
    "array = [3, 6, 9, 12, 15, 18]\n",
    "\n",
    "# create a series\n",
    "series_obj = pd.Series(array)\n",
    "\n",
    "# convert series object into array\n",
    "arr = series_obj.values\n",
    "\n",
    "# output the modified array\n",
    "arr\n"
   ]
  },
  {
   "cell_type": "code",
   "execution_count": 7,
   "id": "ccf9fc7e",
   "metadata": {},
   "outputs": [
    {
     "data": {
      "text/plain": [
       "array([[ 3,  6,  9],\n",
       "       [12, 15, 18]], dtype=int64)"
      ]
     },
     "execution_count": 7,
     "metadata": {},
     "output_type": "execute_result"
    }
   ],
   "source": [
    "# reshaping series\n",
    "reshaped_arr = arr.reshape((2, 3))\n",
    "# show\n",
    "reshaped_arr"
   ]
  },
  {
   "cell_type": "code",
   "execution_count": 8,
   "id": "32b06c17",
   "metadata": {},
   "outputs": [
    {
     "name": "stdout",
     "output_type": "stream",
     "text": [
      "Given Series is:\n",
      " 0      Adrian\n",
      "1    Solskjær\n",
      "2      Samuel\n",
      "3       Palma\n",
      "4        Jake\n",
      "5    Anatalya\n",
      "dtype: object\n"
     ]
    },
    {
     "data": {
      "text/plain": [
       "array(['Adrian', 'Solskjær', 'Samuel', 'Palma', 'Jake', 'Anatalya'],\n",
       "      dtype=object)"
      ]
     },
     "execution_count": 8,
     "metadata": {},
     "output_type": "execute_result"
    }
   ],
   "source": [
    " # import pandas library\n",
    "import pandas as pd\n",
    "# make an array\n",
    "array = [\"Adrian\",\"Solskjær\",\n",
    "\"Samuel\", \"Palma\",\n",
    "\"Jake\",\"Anatalya\"]\n",
    "# create a series\n",
    "series_obj = pd.Series(array)\n",
    "print(\"Given Series is:\\n\", series_obj)\n",
    "# convert series object into array\n",
    "arr = series_obj.values\n",
    "arr"
   ]
  },
  {
   "cell_type": "code",
   "execution_count": 9,
   "id": "9b140588",
   "metadata": {},
   "outputs": [
    {
     "name": "stdout",
     "output_type": "stream",
     "text": [
      "After Reshaping: \n",
      " [['Adrian' 'Solskjær']\n",
      " ['Samuel' 'Palma']\n",
      " ['Jake' 'Anatalya']]\n"
     ]
    }
   ],
   "source": [
    "# reshaping series\n",
    "reshaped_arr = arr.reshape((3, 2))\n",
    "# show\n",
    "print(\"After Reshaping: \\n\", reshaped_arr)"
   ]
  },
  {
   "cell_type": "code",
   "execution_count": 10,
   "id": "37fbcd01",
   "metadata": {},
   "outputs": [],
   "source": [
    "# # The pivot() function is used to reshaped a given DataFrame organized by given␣\n",
    "# ↪index / column values.\n",
    "# #This function does not support data aggregation, multiple values will result␣\n",
    "# ↪in a MultiIndex in the columns.\n",
    "# #Syntax: DataFrame.pivot(self, index=None, columns=None, values=None)␣\n",
    "# ↪Parameters: Name"
   ]
  },
  {
   "cell_type": "code",
   "execution_count": 11,
   "id": "0bed6a3a",
   "metadata": {},
   "outputs": [],
   "source": [
    "# # pandas.pivot(index, columns, values) function produces pivot table based on 3␣\n",
    "# ↪columns of the DataFrame.\n",
    "# #Uses unique values from index / columns and fills with values.\n",
    "# #Parameters:\n",
    "# #index[ndarray] : Labels to use to make new frame’s index\n",
    "# #columns[ndarray] : Labels to use to make new frame’s columns\n",
    "# #values[ndarray] : Values to use for populating new frame’s values\n",
    "# #Returns: Reshaped DataFrame\n",
    "# #Exception: ValueError raised if there are any duplicates.\n"
   ]
  },
  {
   "cell_type": "code",
   "execution_count": 12,
   "id": "55704e9d",
   "metadata": {},
   "outputs": [
    {
     "data": {
      "text/html": [
       "<div>\n",
       "<style scoped>\n",
       "    .dataframe tbody tr th:only-of-type {\n",
       "        vertical-align: middle;\n",
       "    }\n",
       "\n",
       "    .dataframe tbody tr th {\n",
       "        vertical-align: top;\n",
       "    }\n",
       "\n",
       "    .dataframe thead th {\n",
       "        text-align: right;\n",
       "    }\n",
       "</style>\n",
       "<table border=\"1\" class=\"dataframe\">\n",
       "  <thead>\n",
       "    <tr style=\"text-align: right;\">\n",
       "      <th></th>\n",
       "      <th>Name</th>\n",
       "      <th>Subject</th>\n",
       "      <th>C</th>\n",
       "    </tr>\n",
       "  </thead>\n",
       "  <tbody>\n",
       "    <tr>\n",
       "      <th>0</th>\n",
       "      <td>Jean Paul Satre</td>\n",
       "      <td>Psychology</td>\n",
       "      <td>30</td>\n",
       "    </tr>\n",
       "    <tr>\n",
       "      <th>1</th>\n",
       "      <td>Friedrich Nietzsche</td>\n",
       "      <td>Philosophy</td>\n",
       "      <td>25</td>\n",
       "    </tr>\n",
       "    <tr>\n",
       "      <th>2</th>\n",
       "      <td>Salvador Dali</td>\n",
       "      <td>Surrealism</td>\n",
       "      <td>24</td>\n",
       "    </tr>\n",
       "  </tbody>\n",
       "</table>\n",
       "</div>"
      ],
      "text/plain": [
       "                  Name     Subject   C\n",
       "0      Jean Paul Satre  Psychology  30\n",
       "1  Friedrich Nietzsche  Philosophy  25\n",
       "2        Salvador Dali  Surrealism  24"
      ]
     },
     "execution_count": 12,
     "metadata": {},
     "output_type": "execute_result"
    }
   ],
   "source": [
    "# Create a simple dataframe\n",
    "# importing pandas as pd\n",
    "import pandas as pd\n",
    "# creating a dataframe\n",
    "df = pd.DataFrame({'Name': ['Jean Paul Satre', 'Friedrich Nietzsche', 'Salvador Dali'],\n",
    "'Subject': ['Psychology', 'Philosophy', 'Surrealism'],\n",
    "'C': [30, 25, 24]})\n",
    "df"
   ]
  },
  {
   "cell_type": "code",
   "execution_count": 15,
   "id": "10799458",
   "metadata": {},
   "outputs": [
    {
     "name": "stdout",
     "output_type": "stream",
     "text": [
      "Subject              Philosophy  Psychology  Surrealism\n",
      "Name                                                   \n",
      "Friedrich Nietzsche        25.0         NaN         NaN\n",
      "Jean Paul Satre             NaN        30.0         NaN\n",
      "Salvador Dali               NaN         NaN        24.0\n"
     ]
    }
   ],
   "source": [
    "# pivot the DataFrame\n",
    "pivot_table = df.pivot_table(index='Name', columns='Subject', values='C')\n",
    "\n",
    "# output the pivoted table\n",
    "print(pivot_table)\n"
   ]
  },
  {
   "cell_type": "code",
   "execution_count": 16,
   "id": "d69201e4",
   "metadata": {},
   "outputs": [
    {
     "data": {
      "text/html": [
       "<div>\n",
       "<style scoped>\n",
       "    .dataframe tbody tr th:only-of-type {\n",
       "        vertical-align: middle;\n",
       "    }\n",
       "\n",
       "    .dataframe tbody tr th {\n",
       "        vertical-align: top;\n",
       "    }\n",
       "\n",
       "    .dataframe thead tr th {\n",
       "        text-align: left;\n",
       "    }\n",
       "\n",
       "    .dataframe thead tr:last-of-type th {\n",
       "        text-align: right;\n",
       "    }\n",
       "</style>\n",
       "<table border=\"1\" class=\"dataframe\">\n",
       "  <thead>\n",
       "    <tr>\n",
       "      <th></th>\n",
       "      <th colspan=\"3\" halign=\"left\">C</th>\n",
       "      <th colspan=\"3\" halign=\"left\">Name</th>\n",
       "    </tr>\n",
       "    <tr>\n",
       "      <th>Subject</th>\n",
       "      <th>Philosophy</th>\n",
       "      <th>Psychology</th>\n",
       "      <th>Surrealism</th>\n",
       "      <th>Philosophy</th>\n",
       "      <th>Psychology</th>\n",
       "      <th>Surrealism</th>\n",
       "    </tr>\n",
       "    <tr>\n",
       "      <th>Name</th>\n",
       "      <th></th>\n",
       "      <th></th>\n",
       "      <th></th>\n",
       "      <th></th>\n",
       "      <th></th>\n",
       "      <th></th>\n",
       "    </tr>\n",
       "  </thead>\n",
       "  <tbody>\n",
       "    <tr>\n",
       "      <th>Friedrich Nietzsche</th>\n",
       "      <td>25</td>\n",
       "      <td>NaN</td>\n",
       "      <td>NaN</td>\n",
       "      <td>Friedrich Nietzsche</td>\n",
       "      <td>NaN</td>\n",
       "      <td>NaN</td>\n",
       "    </tr>\n",
       "    <tr>\n",
       "      <th>Jean Paul Satre</th>\n",
       "      <td>NaN</td>\n",
       "      <td>30</td>\n",
       "      <td>NaN</td>\n",
       "      <td>NaN</td>\n",
       "      <td>Jean Paul Satre</td>\n",
       "      <td>NaN</td>\n",
       "    </tr>\n",
       "    <tr>\n",
       "      <th>Salvador Dali</th>\n",
       "      <td>NaN</td>\n",
       "      <td>NaN</td>\n",
       "      <td>24</td>\n",
       "      <td>NaN</td>\n",
       "      <td>NaN</td>\n",
       "      <td>Salvador Dali</td>\n",
       "    </tr>\n",
       "  </tbody>\n",
       "</table>\n",
       "</div>"
      ],
      "text/plain": [
       "                             C                                       Name  \\\n",
       "Subject             Philosophy Psychology Surrealism           Philosophy   \n",
       "Name                                                                        \n",
       "Friedrich Nietzsche         25        NaN        NaN  Friedrich Nietzsche   \n",
       "Jean Paul Satre            NaN         30        NaN                  NaN   \n",
       "Salvador Dali              NaN        NaN         24                  NaN   \n",
       "\n",
       "                                                     \n",
       "Subject                   Psychology     Surrealism  \n",
       "Name                                                 \n",
       "Friedrich Nietzsche              NaN            NaN  \n",
       "Jean Paul Satre      Jean Paul Satre            NaN  \n",
       "Salvador Dali                    NaN  Salvador Dali  "
      ]
     },
     "execution_count": 16,
     "metadata": {},
     "output_type": "execute_result"
    }
   ],
   "source": [
    " # value is a list\n",
    "df.pivot(index ='Name', columns ='Subject', values =['C', 'Name'])"
   ]
  },
  {
   "cell_type": "code",
   "execution_count": 17,
   "id": "df4c94fd",
   "metadata": {},
   "outputs": [],
   "source": [
    "#  #the pivot table has been created for the given dataset where the gender␣\n",
    "# ↪percentage has been calculated.\n"
   ]
  },
  {
   "cell_type": "code",
   "execution_count": 18,
   "id": "5e0bc936",
   "metadata": {},
   "outputs": [
    {
     "name": "stdout",
     "output_type": "stream",
     "text": [
      "Dataset\n",
      "    Name  Gender  Age\n",
      "0  Alice  Female   31\n",
      "1    Bob    Male   19\n",
      "2   Ella  Female   27\n",
      "3   Mike    Male   42\n",
      "4   Lily  Female   35\n",
      "5    Tom    Male   24\n",
      "----------------------------------------\n",
      "Table\n",
      "                          Name\n",
      "Gender %Gender Age Group      \n",
      "Female 50.0    >25           3\n",
      "Male   50.0    <=25          2\n",
      "               >25           1\n"
     ]
    }
   ],
   "source": [
    "# importing pandas library\n",
    "import pandas as pd\n",
    "\n",
    "# creating dataframe with modified values\n",
    "df = pd.DataFrame({'Name': ['Alice', 'Bob', 'Ella', 'Mike', 'Lily', 'Tom'],\n",
    "                   'Gender': ['Female', 'Male', 'Female', 'Male', 'Female', 'Male'],\n",
    "                   'Age': [31, 19, 27, 42, 35, 24]})\n",
    "\n",
    "print(\"Dataset\")\n",
    "print(df)\n",
    "print(\"-\" * 40)\n",
    "\n",
    "# categorizing in age groups\n",
    "def age_bucket(age):\n",
    "    if age <= 25:\n",
    "        return \"<=25\"\n",
    "    else:\n",
    "        return \">25\"\n",
    "\n",
    "df['Age Group'] = df['Age'].apply(age_bucket)\n",
    "\n",
    "# calculating gender percentage\n",
    "gender = pd.DataFrame(df.Gender.value_counts(normalize=True) * 100).reset_index()\n",
    "gender.columns = ['Gender', '%Gender']\n",
    "df = pd.merge(left=df, right=gender, how='inner', on=['Gender'])\n",
    "\n",
    "# creating pivot table\n",
    "table = pd.pivot_table(df, index=['Gender', '%Gender', 'Age Group'],\n",
    "                       values=['Name'], aggfunc={'Name': 'count'})\n",
    "\n",
    "# display table\n",
    "print(\"Table\")\n",
    "print(table)\n"
   ]
  },
  {
   "cell_type": "code",
   "execution_count": null,
   "id": "c98ff95b",
   "metadata": {},
   "outputs": [],
   "source": []
  }
 ],
 "metadata": {
  "kernelspec": {
   "display_name": "Python 3 (ipykernel)",
   "language": "python",
   "name": "python3"
  },
  "language_info": {
   "codemirror_mode": {
    "name": "ipython",
    "version": 3
   },
   "file_extension": ".py",
   "mimetype": "text/x-python",
   "name": "python",
   "nbconvert_exporter": "python",
   "pygments_lexer": "ipython3",
   "version": "3.11.4"
  }
 },
 "nbformat": 4,
 "nbformat_minor": 5
}
